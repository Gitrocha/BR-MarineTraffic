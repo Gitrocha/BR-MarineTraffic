{
 "cells": [
  {
   "cell_type": "code",
   "execution_count": 2,
   "metadata": {},
   "outputs": [
    {
     "name": "stdout",
     "output_type": "stream",
     "text": [
      "basepath C:\\Users\\lucas.rocha\\GitRepos\\MTraffic\\BR-MarineTraffic\\Main\\analysis\n",
      "C:\\Users\\lucas.rocha\\GitRepos\\MTraffic\\BR-MarineTraffic\\Main\n"
     ]
    }
   ],
   "source": [
    "import qgrid\n",
    "import pandas as pd\n",
    "import pathlib\n",
    "from datetime import datetime\n",
    "\n",
    "\n",
    "basepath = pathlib.Path.cwd()\n",
    "print('basepath', basepath)\n",
    "\n",
    "project_path = basepath.parent.parent\n",
    "\n",
    "#file_folder = basepath / 'files'\n",
    "#result_folder = basepath / 'result'\n",
    "\n",
    "df = pd.read_csv(project_path / 'Reports' / 'IMO-Fleet-mixed' / 'viagens' / 'Resultado_NEW.csv',\n",
    "                 sep=';',\n",
    "                 encoding='cp1252')\n"
   ]
  },
  {
   "cell_type": "code",
   "execution_count": null,
   "metadata": {},
   "outputs": [],
   "source": []
  }
 ],
 "metadata": {
  "kernelspec": {
   "display_name": "cenv",
   "language": "python",
   "name": "cenv"
  },
  "language_info": {
   "codemirror_mode": {
    "name": "ipython",
    "version": 3
   },
   "file_extension": ".py",
   "mimetype": "text/x-python",
   "name": "python",
   "nbconvert_exporter": "python",
   "pygments_lexer": "ipython3",
   "version": "3.7.4"
  }
 },
 "nbformat": 4,
 "nbformat_minor": 2
}
